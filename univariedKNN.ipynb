{
 "cells": [
  {
   "cell_type": "code",
   "execution_count": 1,
   "metadata": {},
   "outputs": [],
   "source": [
    "import pandas as pd\n",
    "import numpy as np\n",
    "pd.options.mode.chained_assignment=None\n",
    "\n",
    "#PART 0 :-----------> parameters\n",
    "\n",
    "#choose k, here for example i chosed the first 5 nearest neighbours\n",
    "k=5\n",
    "\n",
    "\n",
    "\n",
    "#PART 1 :-----------> data process\n",
    "\n",
    "#read data\n",
    "airbnb_list=pd.read_csv('paris_airbnb.csv')\n",
    "\n",
    "#clean the column price, remove , and $\n",
    "airbnb_list['price']=airbnb_list['price'].str.replace('$','')\n",
    "airbnb_list['price']=airbnb_list['price'].str.replace(',','')\n",
    "\n",
    "#convert price column to float\n",
    "airbnb_list['price']=airbnb_list['price'].astype('float')\n",
    "\n",
    "#random the dataset\n",
    "airbnb_list=airbnb_list.loc[np.random.permutation(len(airbnb_list))]\n",
    "\n",
    "#separate into train data and test data\n",
    "\n",
    "train_data=airbnb_list[0:7000]\n",
    "test_data=airbnb_list[7000:]\n",
    "\n",
    "\n",
    "\n",
    "\n",
    "\n"
   ]
  },
  {
   "cell_type": "code",
   "execution_count": 2,
   "metadata": {},
   "outputs": [],
   "source": [
    "#PART 2 :-----------> Predict the price based on minimum person to accommodate number, implementing function\n",
    "\n",
    "def predict_price_based_on_min_accom(train_set,minimum_person,k):\n",
    "    \n",
    "    #Clone the train dataframe\n",
    "    copy_list=train_set.copy()\n",
    "    \n",
    "    #Similarity based on Manhattan Distance\n",
    "    copy_list['dist']=copy_list['accommodates'].apply(lambda x: np.abs(x-minimum_person))\n",
    "    #Sort the list, to get the first k with minimum distance\n",
    "    copy_list=copy_list.sort_values('dist')\n",
    "    \n",
    "    #get the first k nearest neighbours price\n",
    "    nearest_neigh=copy_list.iloc[0:k]['price']\n",
    "    \n",
    "    #get the mean of the k prices\n",
    "    price=nearest_neigh.mean()\n",
    "    \n",
    "    \n",
    "    return (price)\n"
   ]
  },
  {
   "cell_type": "code",
   "execution_count": 3,
   "metadata": {},
   "outputs": [
    {
     "name": "stdout",
     "output_type": "stream",
     "text": [
      "the price for 1 person accommodation:  53.4\n",
      "the price for 4 person accommodation:  140.0\n",
      "the price for 5 person accommodation:  181.6\n"
     ]
    }
   ],
   "source": [
    "\n",
    "#PART 3 :-----------> Execute it \n",
    "\n",
    "#lets try for 1 , 4 and 5 persons\n",
    "print(\"the price for 1 person accommodation: \",predict_price_based_on_min_accom(airbnb_list,1,k))\n",
    "print(\"the price for 4 person accommodation: \",predict_price_based_on_min_accom(airbnb_list,4,k))\n",
    "print(\"the price for 5 person accommodation: \",predict_price_based_on_min_accom(airbnb_list,5,k))"
   ]
  },
  {
   "cell_type": "code",
   "execution_count": 4,
   "metadata": {},
   "outputs": [],
   "source": [
    "#PART 4 :-----------> Execute it on test set\n",
    "\n",
    "min_pers=3\n",
    "test_data['predicted_price_base_on_acc'] = test_data['accommodates'].apply(lambda x:predict_price_based_on_min_accom(train_data,min_pers,k))\n",
    "\n"
   ]
  },
  {
   "cell_type": "code",
   "execution_count": 5,
   "metadata": {},
   "outputs": [
    {
     "name": "stdout",
     "output_type": "stream",
     "text": [
      "      price  predicted_price_base_on_acc\n",
      "7904   43.0                         87.2\n",
      "165   155.0                         87.2\n",
      "6800  525.0                         87.2\n",
      "2242  129.0                         87.2\n",
      "5512  160.0                         87.2\n",
      "1662   62.0                         87.2\n",
      "6931   50.0                         87.2\n",
      "7886  250.0                         87.2\n",
      "7768  225.0                         87.2\n",
      "6564   50.0                         87.2\n",
      "3628   35.0                         87.2\n",
      "4623  150.0                         87.2\n",
      "7942   80.0                         87.2\n",
      "3099  100.0                         87.2\n",
      "1969  149.0                         87.2\n",
      "2786  399.0                         87.2\n",
      "3095   60.0                         87.2\n",
      "1579  105.0                         87.2\n",
      "7061   90.0                         87.2\n",
      "4387  120.0                         87.2\n",
      "6894   95.0                         87.2\n",
      "5657  110.0                         87.2\n",
      "6529    8.0                         87.2\n",
      "3320   95.0                         87.2\n",
      "2698  100.0                         87.2\n",
      "6107   90.0                         87.2\n",
      "1752   75.0                         87.2\n",
      "5177   65.0                         87.2\n",
      "5854  110.0                         87.2\n",
      "354    73.0                         87.2\n",
      "...     ...                          ...\n",
      "3084  540.0                         87.2\n",
      "4124   47.0                         87.2\n",
      "2619   50.0                         87.2\n",
      "3      90.0                         87.2\n",
      "4355   90.0                         87.2\n",
      "5483   55.0                         87.2\n",
      "5825  189.0                         87.2\n",
      "5760  200.0                         87.2\n",
      "4037  300.0                         87.2\n",
      "4241   46.0                         87.2\n",
      "2685  160.0                         87.2\n",
      "1659   40.0                         87.2\n",
      "2960   80.0                         87.2\n",
      "5826   50.0                         87.2\n",
      "2078   45.0                         87.2\n",
      "6464  149.0                         87.2\n",
      "3125   65.0                         87.2\n",
      "6605   30.0                         87.2\n",
      "4173   50.0                         87.2\n",
      "7868   40.0                         87.2\n",
      "3578   90.0                         87.2\n",
      "3338  115.0                         87.2\n",
      "6615   95.0                         87.2\n",
      "4594  125.0                         87.2\n",
      "5495  100.0                         87.2\n",
      "6360  260.0                         87.2\n",
      "6780   80.0                         87.2\n",
      "6085   70.0                         87.2\n",
      "1840   59.0                         87.2\n",
      "36     49.0                         87.2\n",
      "\n",
      "[1000 rows x 2 columns]\n"
     ]
    }
   ],
   "source": [
    "print(test_data[['price','predicted_price_base_on_acc']])"
   ]
  },
  {
   "cell_type": "code",
   "execution_count": 6,
   "metadata": {},
   "outputs": [
    {
     "name": "stdout",
     "output_type": "stream",
     "text": [
      "MAE error is  52.03020000000001\n",
      "MSE error is  9851.51339999994\n",
      "RMSE error is  99.25479031260879\n"
     ]
    }
   ],
   "source": [
    "#PART 5 :-----------> Evaluation\n",
    "\n",
    "#MAE is the mean of error ie: sum(|realprice-predicted|)/n\n",
    "test_data['error']=np.absolute(test_data['price']-test_data['predicted_price_base_on_acc'])\n",
    "error_MAE=test_data['error'].mean()\n",
    "print(\"MAE error is \",error_MAE)\n",
    "\n",
    "#MSE is the mean of squared error ie: sum(|realprice-predicted|²)/n\n",
    "test_data['squared_error']=np.absolute((test_data['price']-test_data['predicted_price_base_on_acc'])**2)\n",
    "error_MSE=test_data['squared_error'].mean()\n",
    "print(\"MSE error is \",error_MSE)\n",
    "print(\"RMSE error is \",error_MSE**0.5)"
   ]
  }
 ],
 "metadata": {
  "kernelspec": {
   "display_name": "Python 3",
   "language": "python",
   "name": "python3"
  },
  "language_info": {
   "codemirror_mode": {
    "name": "ipython",
    "version": 3
   },
   "file_extension": ".py",
   "mimetype": "text/x-python",
   "name": "python",
   "nbconvert_exporter": "python",
   "pygments_lexer": "ipython3",
   "version": "3.7.3"
  }
 },
 "nbformat": 4,
 "nbformat_minor": 2
}
